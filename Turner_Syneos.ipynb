{
 "cells": [
  {
   "cell_type": "code",
   "execution_count": 1,
   "metadata": {},
   "outputs": [],
   "source": [
    "import pandas as pd\n",
    "import spotipy\n",
    "import spotipy.util as util\n",
    "from spotipy.oauth2 import SpotifyClientCredentials"
   ]
  },
  {
   "cell_type": "code",
   "execution_count": 2,
   "metadata": {},
   "outputs": [],
   "source": [
    "#initial code provided by Shreye at https://github.com/shreyejsaxena/bonnarhythms/blob/master/bonnarhythm.ipynb\n",
    "#this code is tofind the URI associated with each artist in Spotify (if they have one)\n",
    "SPOTIFY_CLIENT_ID='e00c1463898541d8b7041daa4f7f6c2b'\n",
    "SPOTIFY_CLIENT_SECRET='1ac9e58b948f4c6c9e124f154d0f710e'\n",
    "SPOTIFY_REDIRECT_URI='http://localhost:8888/callback/'\n",
    "SPOTIFY_USER_ID='0oxlihl3h114027galdzh11xy'"
   ]
  },
  {
   "cell_type": "code",
   "execution_count": 3,
   "metadata": {},
   "outputs": [],
   "source": [
    "# Spotify authorization\n",
    "scope = 'playlist-modify-public'\n",
    "username = SPOTIFY_USER_ID\n",
    "token = util.prompt_for_user_token(username, scope, SPOTIFY_CLIENT_ID, SPOTIFY_CLIENT_SECRET, SPOTIFY_REDIRECT_URI)\n",
    "spotify = spotipy.Spotify(auth=token)"
   ]
  },
  {
   "cell_type": "markdown",
   "metadata": {},
   "source": [
    "# Get the Top artists of the Decade and \"Unknown\" Artists\n",
    "Found Spotify's top streamed artists for years 2013-2019, got this information from:\n",
    "2013: https://www.billboard.com/articles/news/5812365/macklemores-cant-hold-us-spotifys-most-streamed-song-of-2013\n",
    "2014: https://time.com/3616091/spotify-most-streamed/\n",
    "2015: https://www.complex.com/music/2015/12/spotify-top-artists-songs-and-albums-of-2015\n",
    "2016: https://www.billboard.com/articles/news/7596024/drake-rihanna-top-spotify-year-end-lists\n",
    "2017: https://www.complex.com/music/2017/12/spotify-top-artists-songs-albums-2017\n",
    "2018: https://variety.com/2018/digital/news/drake-ariana-grande-top-spotifys-year-end-wrapped-charts-1203078820/\n",
    "2019: https://variety.com/2019/music/news/post-malone-billie-eilish-spotify-year-end-charts-1203421524/\n",
    "\"unknown\" artists:\n",
    "https://puckermob.com/entertainment/12-great-artists-youve-probably-never-heard-of/\n",
    "https://www.popdust.com/best-unknown-music-2638889200.html\n",
    "https://www.udiscovermusic.com/stories/50-great-songs-youve-never-heard/\n",
    "https://community.spotify.com/t5/Music-Chat/Artists-w-fewer-than-1000-monthly-listeners/td-p/1588962/page/2"
   ]
  },
  {
   "cell_type": "code",
   "execution_count": 4,
   "metadata": {},
   "outputs": [],
   "source": [
    "#top artists of the Decade \n",
    "top = ['Macklemore & Ryan Lewis',\n",
    "       'Avicii',\n",
    "       'Daft Punk',\n",
    "       'Imagine Dragons',\n",
    "       'Jay Z',\n",
    "       'Bruno Mars',\n",
    "       'Coldplay',\n",
    "       'Calvin Harris',\n",
    "       'Katy Perry',\n",
    "       'Maroon 5',\n",
    "       'Kanye West',\n",
    "       'Justin Bieber',\n",
    "       'Twenty One Pilots',\n",
    "       'Kendrick Lamar',\n",
    "       'The Chainsmokers',\n",
    "       'XXXTentacion',\n",
    "       'J Balvin',\n",
    "       'Billie Eilish',\n",
    "       'Bad Bunny',\n",
    "       'Drake',\n",
    "       'Ed Sheeran',\n",
    "       'Post Malone',\n",
    "       'Ariana Grande',\n",
    "       'Eminem',\n",
    "       'Rihanna',\n",
    "       'The Weeknd',\n",
    "       'Taylor Swift',\n",
    "       'Sia',\n",
    "       'Beyonce',\n",
    "       'Lorde',\n",
    "       'Lana Del Rey',\n",
    "       'David Guetta',\n",
    "       'Ellie Goulding',\n",
    "       'Nicki Minaj',\n",
    "       'Adele',\n",
    "       'Fifth Harmony',\n",
    "       'Selena Gomez',\n",
    "       'Daddy Yankee',\n",
    "       'Cardi B',\n",
    "       'Dua Lipa',\n",
    "       'Camila Cabello',\n",
    "       'Halsey',\n",
    "       'Khalid']\n",
    "       \n",
    "#this starts artists that weren't top artists\n",
    "unpop = ['Yuna',\n",
    "         'Austra',\n",
    "         'Naturally 7',\n",
    "         'Lucia',\n",
    "         'Iyeoka',\n",
    "         'Bedouin Soundclash',\n",
    "         'Judah Tha Lion',\n",
    "         'Justin Nozuka',\n",
    "         'Lucy Spraggan',\n",
    "         'Kamilah',\n",
    "         'Cloudeater',\n",
    "         'Yeti Ghetto',\n",
    "         'Pale Oaks',\n",
    "         'The Hashassins',\n",
    "         'Elliot Taylor',\n",
    "         'The Left Banke',\n",
    "         'Decline & Fall',\n",
    "         'Chris Rainbow',\n",
    "         'Miracle Mile',\n",
    "         'Harry Disco',\n",
    "         'The Carolyn',\n",
    "         'Shiloh Hill',\n",
    "         'Jagaja',\n",
    "         'Tjuv',\n",
    "         'Leg Puppy',\n",
    "         'Kacey Musgraves',\n",
    "         'Hozier',\n",
    "         'Kelly Clarkson',\n",
    "         'Brockhampton',\n",
    "         'Chance the Rapper',\n",
    "         'King Princess',\n",
    "         'The Lumineers',\n",
    "         'Miley Cyrus',\n",
    "         'Lady Gaga',\n",
    "         'Demi Lovato',\n",
    "         'Lizzo',\n",
    "         'John Legend',\n",
    "         'Hayley Kiyoko',\n",
    "         'Shawn Mendes',\n",
    "         'Future',\n",
    "         'Arizona Zervas',\n",
    "         'Lewis Capaldi',\n",
    "         'Charlie Puth',\n",
    "         'BTS',\n",
    "         'Sam Smith',\n",
    "         'Chris Brown',\n",
    "         'Travis Scott',\n",
    "         'blackbear',\n",
    "         'Hoodie Allen',\n",
    "         'Lil Wayne',\n",
    "         'Frank Ocean',\n",
    "         'Mac Miller',\n",
    "         'Bastille'\n",
    "      ]"
   ]
  },
  {
   "cell_type": "code",
   "execution_count": 5,
   "metadata": {},
   "outputs": [
    {
     "name": "stdout",
     "output_type": "stream",
     "text": [
      "Identified 43 artists\n",
      "Identified 53 artists\n"
     ]
    }
   ],
   "source": [
    "popArtists = {}\n",
    "#add top artists\n",
    "for name in top:\n",
    "    results = spotify.search(q='artist:' + name, type='artist')\n",
    "    items = results['artists']['items']\n",
    "    try:\n",
    "        popArtists[items[0]['name']] = items[0]['id'] # add key-value pair of each artist name and their spotify ID\n",
    "    except:\n",
    "        print(name)\n",
    "\n",
    "print('Identified '+str(len(popArtists))+' artists')\n",
    "\n",
    "unpopArtists = {}\n",
    "#add unpopular artists\n",
    "for name in unpop:\n",
    "    results = spotify.search(q='artist:' + name, type='artist')\n",
    "    items = results['artists']['items']\n",
    "    try:\n",
    "        unpopArtists[items[0]['name']] = items[0]['id'] # add key-value pair of each artist name and their spotify ID\n",
    "    except:\n",
    "        print(name)\n",
    "\n",
    "print('Identified '+str(len(unpopArtists))+' artists') "
   ]
  },
  {
   "cell_type": "markdown",
   "metadata": {},
   "source": [
    "# Identifying top 10 tracks for each artist\n",
    "Each artist contributes their 10 top tracks to the \"pool\" of music that will be used to build the model"
   ]
  },
  {
   "cell_type": "code",
   "execution_count": 6,
   "metadata": {},
   "outputs": [
    {
     "name": "stdout",
     "output_type": "stream",
     "text": [
      "Selected 430 songs\n",
      "Selected 499 songs\n"
     ]
    }
   ],
   "source": [
    "tracksPop = []\n",
    "#tracks for popular artists\n",
    "for value in popArtists:\n",
    "    uri = 'spotify:artist:'+popArtists[value]\n",
    "    results = spotify.artist_top_tracks(uri)\n",
    "    for track in results['tracks'][:10]:\n",
    "        tracksPop.append('spotify:track:'+track['id']) # append the URIs of each artist's top tracks\n",
    "\n",
    "print('Selected '+str(len(tracksPop))+' songs')\n",
    "\n",
    "\n",
    "tracksUnpop = []\n",
    "\n",
    "#tracks for unpopular artists\n",
    "for value in unpopArtists:\n",
    "    uri = 'spotify:artist:'+unpopArtists[value]\n",
    "    results = spotify.artist_top_tracks(uri)\n",
    "    for track in results['tracks'][:10]:\n",
    "        tracksUnpop.append('spotify:track:'+track['id']) # append the URIs of each artist's top tracks\n",
    "\n",
    "        \n",
    "print('Selected '+str(len(tracksUnpop))+' songs')\n"
   ]
  },
  {
   "cell_type": "markdown",
   "metadata": {},
   "source": [
    "# Gather audio features for all tracks (for RF)\n",
    "Collect and posture data attributes for all of the track URIs"
   ]
  },
  {
   "cell_type": "code",
   "execution_count": 8,
   "metadata": {},
   "outputs": [
    {
     "name": "stderr",
     "output_type": "stream",
     "text": [
      "C:\\Users\\ameli\\Anaconda3\\lib\\site-packages\\pandas\\core\\frame.py:6692: FutureWarning: Sorting because non-concatenation axis is not aligned. A future version\n",
      "of pandas will change to not sort by default.\n",
      "\n",
      "To accept the future behavior, pass 'sort=False'.\n",
      "\n",
      "To retain the current behavior and silence the warning, pass 'sort=True'.\n",
      "\n",
      "  sort=sort)\n"
     ]
    },
    {
     "data": {
      "text/html": [
       "<div>\n",
       "<style scoped>\n",
       "    .dataframe tbody tr th:only-of-type {\n",
       "        vertical-align: middle;\n",
       "    }\n",
       "\n",
       "    .dataframe tbody tr th {\n",
       "        vertical-align: top;\n",
       "    }\n",
       "\n",
       "    .dataframe thead th {\n",
       "        text-align: right;\n",
       "    }\n",
       "</style>\n",
       "<table border=\"1\" class=\"dataframe\">\n",
       "  <thead>\n",
       "    <tr style=\"text-align: right;\">\n",
       "      <th></th>\n",
       "      <th>acousticness</th>\n",
       "      <th>danceability</th>\n",
       "      <th>duration_ms</th>\n",
       "      <th>energy</th>\n",
       "      <th>indicator</th>\n",
       "      <th>instrumentalness</th>\n",
       "      <th>key</th>\n",
       "      <th>liveness</th>\n",
       "      <th>loudness</th>\n",
       "      <th>mode</th>\n",
       "      <th>speechiness</th>\n",
       "      <th>tempo</th>\n",
       "      <th>time_signature</th>\n",
       "      <th>valence</th>\n",
       "    </tr>\n",
       "  </thead>\n",
       "  <tbody>\n",
       "    <tr>\n",
       "      <th>count</th>\n",
       "      <td>929.000000</td>\n",
       "      <td>929.000000</td>\n",
       "      <td>929.000000</td>\n",
       "      <td>929.000000</td>\n",
       "      <td>430.0</td>\n",
       "      <td>929.000000</td>\n",
       "      <td>929.000000</td>\n",
       "      <td>929.000000</td>\n",
       "      <td>929.000000</td>\n",
       "      <td>929.000000</td>\n",
       "      <td>929.000000</td>\n",
       "      <td>929.000000</td>\n",
       "      <td>929.000000</td>\n",
       "      <td>929.000000</td>\n",
       "    </tr>\n",
       "    <tr>\n",
       "      <th>mean</th>\n",
       "      <td>0.246080</td>\n",
       "      <td>0.640158</td>\n",
       "      <td>219808.840689</td>\n",
       "      <td>0.619612</td>\n",
       "      <td>1.0</td>\n",
       "      <td>0.026917</td>\n",
       "      <td>5.199139</td>\n",
       "      <td>0.173737</td>\n",
       "      <td>-6.762744</td>\n",
       "      <td>0.602799</td>\n",
       "      <td>0.097786</td>\n",
       "      <td>119.584801</td>\n",
       "      <td>3.963402</td>\n",
       "      <td>0.476591</td>\n",
       "    </tr>\n",
       "    <tr>\n",
       "      <th>std</th>\n",
       "      <td>0.273539</td>\n",
       "      <td>0.145408</td>\n",
       "      <td>48861.224040</td>\n",
       "      <td>0.182800</td>\n",
       "      <td>0.0</td>\n",
       "      <td>0.124818</td>\n",
       "      <td>3.634450</td>\n",
       "      <td>0.132521</td>\n",
       "      <td>2.868122</td>\n",
       "      <td>0.489582</td>\n",
       "      <td>0.099391</td>\n",
       "      <td>28.797648</td>\n",
       "      <td>0.291318</td>\n",
       "      <td>0.221953</td>\n",
       "    </tr>\n",
       "    <tr>\n",
       "      <th>min</th>\n",
       "      <td>0.000009</td>\n",
       "      <td>0.125000</td>\n",
       "      <td>53307.000000</td>\n",
       "      <td>0.025400</td>\n",
       "      <td>1.0</td>\n",
       "      <td>0.000000</td>\n",
       "      <td>0.000000</td>\n",
       "      <td>0.021500</td>\n",
       "      <td>-25.738000</td>\n",
       "      <td>0.000000</td>\n",
       "      <td>0.023200</td>\n",
       "      <td>64.934000</td>\n",
       "      <td>1.000000</td>\n",
       "      <td>0.031400</td>\n",
       "    </tr>\n",
       "    <tr>\n",
       "      <th>25%</th>\n",
       "      <td>0.034600</td>\n",
       "      <td>0.543000</td>\n",
       "      <td>191308.000000</td>\n",
       "      <td>0.518000</td>\n",
       "      <td>1.0</td>\n",
       "      <td>0.000000</td>\n",
       "      <td>2.000000</td>\n",
       "      <td>0.094800</td>\n",
       "      <td>-7.915000</td>\n",
       "      <td>0.000000</td>\n",
       "      <td>0.036500</td>\n",
       "      <td>97.002000</td>\n",
       "      <td>4.000000</td>\n",
       "      <td>0.315000</td>\n",
       "    </tr>\n",
       "    <tr>\n",
       "      <th>50%</th>\n",
       "      <td>0.128000</td>\n",
       "      <td>0.651000</td>\n",
       "      <td>214400.000000</td>\n",
       "      <td>0.632000</td>\n",
       "      <td>1.0</td>\n",
       "      <td>0.000001</td>\n",
       "      <td>5.000000</td>\n",
       "      <td>0.119000</td>\n",
       "      <td>-6.128000</td>\n",
       "      <td>1.000000</td>\n",
       "      <td>0.054100</td>\n",
       "      <td>117.924000</td>\n",
       "      <td>4.000000</td>\n",
       "      <td>0.470000</td>\n",
       "    </tr>\n",
       "    <tr>\n",
       "      <th>75%</th>\n",
       "      <td>0.383000</td>\n",
       "      <td>0.746000</td>\n",
       "      <td>240707.000000</td>\n",
       "      <td>0.758000</td>\n",
       "      <td>1.0</td>\n",
       "      <td>0.000106</td>\n",
       "      <td>8.000000</td>\n",
       "      <td>0.204000</td>\n",
       "      <td>-4.952000</td>\n",
       "      <td>1.000000</td>\n",
       "      <td>0.109000</td>\n",
       "      <td>137.996000</td>\n",
       "      <td>4.000000</td>\n",
       "      <td>0.643000</td>\n",
       "    </tr>\n",
       "    <tr>\n",
       "      <th>max</th>\n",
       "      <td>0.995000</td>\n",
       "      <td>0.964000</td>\n",
       "      <td>585796.000000</td>\n",
       "      <td>0.972000</td>\n",
       "      <td>1.0</td>\n",
       "      <td>0.999000</td>\n",
       "      <td>11.000000</td>\n",
       "      <td>0.945000</td>\n",
       "      <td>-1.538000</td>\n",
       "      <td>1.000000</td>\n",
       "      <td>0.599000</td>\n",
       "      <td>205.846000</td>\n",
       "      <td>5.000000</td>\n",
       "      <td>0.969000</td>\n",
       "    </tr>\n",
       "  </tbody>\n",
       "</table>\n",
       "</div>"
      ],
      "text/plain": [
       "       acousticness  danceability    duration_ms      energy  indicator  \\\n",
       "count    929.000000    929.000000     929.000000  929.000000      430.0   \n",
       "mean       0.246080      0.640158  219808.840689    0.619612        1.0   \n",
       "std        0.273539      0.145408   48861.224040    0.182800        0.0   \n",
       "min        0.000009      0.125000   53307.000000    0.025400        1.0   \n",
       "25%        0.034600      0.543000  191308.000000    0.518000        1.0   \n",
       "50%        0.128000      0.651000  214400.000000    0.632000        1.0   \n",
       "75%        0.383000      0.746000  240707.000000    0.758000        1.0   \n",
       "max        0.995000      0.964000  585796.000000    0.972000        1.0   \n",
       "\n",
       "       instrumentalness         key    liveness    loudness        mode  \\\n",
       "count        929.000000  929.000000  929.000000  929.000000  929.000000   \n",
       "mean           0.026917    5.199139    0.173737   -6.762744    0.602799   \n",
       "std            0.124818    3.634450    0.132521    2.868122    0.489582   \n",
       "min            0.000000    0.000000    0.021500  -25.738000    0.000000   \n",
       "25%            0.000000    2.000000    0.094800   -7.915000    0.000000   \n",
       "50%            0.000001    5.000000    0.119000   -6.128000    1.000000   \n",
       "75%            0.000106    8.000000    0.204000   -4.952000    1.000000   \n",
       "max            0.999000   11.000000    0.945000   -1.538000    1.000000   \n",
       "\n",
       "       speechiness       tempo  time_signature     valence  \n",
       "count   929.000000  929.000000      929.000000  929.000000  \n",
       "mean      0.097786  119.584801        3.963402    0.476591  \n",
       "std       0.099391   28.797648        0.291318    0.221953  \n",
       "min       0.023200   64.934000        1.000000    0.031400  \n",
       "25%       0.036500   97.002000        4.000000    0.315000  \n",
       "50%       0.054100  117.924000        4.000000    0.470000  \n",
       "75%       0.109000  137.996000        4.000000    0.643000  \n",
       "max       0.599000  205.846000        5.000000    0.969000  "
      ]
     },
     "execution_count": 8,
     "metadata": {},
     "output_type": "execute_result"
    }
   ],
   "source": [
    "# Obtain audio features for popular songs\n",
    "features = pd.DataFrame()\n",
    "for track_chunk in [tracksPop[i:i + 20] for i in range(0, len(tracksPop), 20)]: # process in chunks of 20, to circumvent API limits\n",
    "    features = features.append(pd.DataFrame(spotify.audio_features(track_chunk)))\n",
    "    features['indicator'] = 1 #add target variable to show this was a popular song\n",
    "    \n",
    "#Obtain audio features for unpopular songs\n",
    "for track_chunk in [tracksUnpop[i:i + 20] for i in range(0, len(tracksUnpop), 20)]: # process in chunks of 20, to circumvent API limits\n",
    "    features = features.append(pd.DataFrame(spotify.audio_features(track_chunk)))\n",
    "\n",
    "features.to_csv('features.csv')\n",
    "features.describe()"
   ]
  },
  {
   "cell_type": "code",
   "execution_count": 9,
   "metadata": {},
   "outputs": [
    {
     "data": {
      "text/plain": [
       "acousticness          0\n",
       "analysis_url          0\n",
       "danceability          0\n",
       "duration_ms           0\n",
       "energy                0\n",
       "id                    0\n",
       "indicator           499\n",
       "instrumentalness      0\n",
       "key                   0\n",
       "liveness              0\n",
       "loudness              0\n",
       "mode                  0\n",
       "speechiness           0\n",
       "tempo                 0\n",
       "time_signature        0\n",
       "track_href            0\n",
       "type                  0\n",
       "uri                   0\n",
       "valence               0\n",
       "dtype: int64"
      ]
     },
     "execution_count": 9,
     "metadata": {},
     "output_type": "execute_result"
    }
   ],
   "source": [
    "#verify only null values exist in indicator column\n",
    "features.isnull().sum()"
   ]
  },
  {
   "cell_type": "code",
   "execution_count": 10,
   "metadata": {},
   "outputs": [],
   "source": [
    "#replace null values with 0 for indicator, because these are all of the unpopular songs\n",
    "features['indicator'].fillna(0, inplace = True) "
   ]
  },
  {
   "cell_type": "code",
   "execution_count": 11,
   "metadata": {},
   "outputs": [
    {
     "data": {
      "text/html": [
       "<div>\n",
       "<style scoped>\n",
       "    .dataframe tbody tr th:only-of-type {\n",
       "        vertical-align: middle;\n",
       "    }\n",
       "\n",
       "    .dataframe tbody tr th {\n",
       "        vertical-align: top;\n",
       "    }\n",
       "\n",
       "    .dataframe thead th {\n",
       "        text-align: right;\n",
       "    }\n",
       "</style>\n",
       "<table border=\"1\" class=\"dataframe\">\n",
       "  <thead>\n",
       "    <tr style=\"text-align: right;\">\n",
       "      <th></th>\n",
       "      <th>acousticness</th>\n",
       "      <th>analysis_url</th>\n",
       "      <th>danceability</th>\n",
       "      <th>duration_ms</th>\n",
       "      <th>energy</th>\n",
       "      <th>id</th>\n",
       "      <th>indicator</th>\n",
       "      <th>instrumentalness</th>\n",
       "      <th>key</th>\n",
       "      <th>liveness</th>\n",
       "      <th>loudness</th>\n",
       "      <th>mode</th>\n",
       "      <th>speechiness</th>\n",
       "      <th>tempo</th>\n",
       "      <th>time_signature</th>\n",
       "      <th>track_href</th>\n",
       "      <th>type</th>\n",
       "      <th>uri</th>\n",
       "      <th>valence</th>\n",
       "    </tr>\n",
       "  </thead>\n",
       "  <tbody>\n",
       "    <tr>\n",
       "      <th>0</th>\n",
       "      <td>0.0291</td>\n",
       "      <td>https://api.spotify.com/v1/audio-analysis/3bid...</td>\n",
       "      <td>0.641</td>\n",
       "      <td>258343</td>\n",
       "      <td>0.922</td>\n",
       "      <td>3bidbhpOYeV4knp8AIu8Xn</td>\n",
       "      <td>1.0</td>\n",
       "      <td>0.000000</td>\n",
       "      <td>2</td>\n",
       "      <td>0.0862</td>\n",
       "      <td>-4.457</td>\n",
       "      <td>1</td>\n",
       "      <td>0.0786</td>\n",
       "      <td>146.078</td>\n",
       "      <td>4</td>\n",
       "      <td>https://api.spotify.com/v1/tracks/3bidbhpOYeV4...</td>\n",
       "      <td>audio_features</td>\n",
       "      <td>spotify:track:3bidbhpOYeV4knp8AIu8Xn</td>\n",
       "      <td>0.8470</td>\n",
       "    </tr>\n",
       "    <tr>\n",
       "      <th>1</th>\n",
       "      <td>0.0619</td>\n",
       "      <td>https://api.spotify.com/v1/audio-analysis/3AYc...</td>\n",
       "      <td>0.781</td>\n",
       "      <td>235613</td>\n",
       "      <td>0.526</td>\n",
       "      <td>3AYcyxEACnmE6d96RPubID</td>\n",
       "      <td>1.0</td>\n",
       "      <td>0.000000</td>\n",
       "      <td>6</td>\n",
       "      <td>0.0457</td>\n",
       "      <td>-6.985</td>\n",
       "      <td>0</td>\n",
       "      <td>0.2930</td>\n",
       "      <td>94.992</td>\n",
       "      <td>4</td>\n",
       "      <td>https://api.spotify.com/v1/tracks/3AYcyxEACnmE...</td>\n",
       "      <td>audio_features</td>\n",
       "      <td>spotify:track:3AYcyxEACnmE6d96RPubID</td>\n",
       "      <td>0.6620</td>\n",
       "    </tr>\n",
       "    <tr>\n",
       "      <th>2</th>\n",
       "      <td>0.0916</td>\n",
       "      <td>https://api.spotify.com/v1/audio-analysis/5pfJ...</td>\n",
       "      <td>0.828</td>\n",
       "      <td>292593</td>\n",
       "      <td>0.609</td>\n",
       "      <td>5pfJsMwoRYKampPay8amX0</td>\n",
       "      <td>1.0</td>\n",
       "      <td>0.000001</td>\n",
       "      <td>1</td>\n",
       "      <td>0.2910</td>\n",
       "      <td>-4.402</td>\n",
       "      <td>1</td>\n",
       "      <td>0.0694</td>\n",
       "      <td>109.725</td>\n",
       "      <td>4</td>\n",
       "      <td>https://api.spotify.com/v1/tracks/5pfJsMwoRYKa...</td>\n",
       "      <td>audio_features</td>\n",
       "      <td>spotify:track:5pfJsMwoRYKampPay8amX0</td>\n",
       "      <td>0.7070</td>\n",
       "    </tr>\n",
       "    <tr>\n",
       "      <th>3</th>\n",
       "      <td>0.7160</td>\n",
       "      <td>https://api.spotify.com/v1/audio-analysis/01uq...</td>\n",
       "      <td>0.688</td>\n",
       "      <td>318525</td>\n",
       "      <td>0.473</td>\n",
       "      <td>01uqI4H13Gsd8Lyl1EYd8H</td>\n",
       "      <td>1.0</td>\n",
       "      <td>0.000045</td>\n",
       "      <td>8</td>\n",
       "      <td>0.1040</td>\n",
       "      <td>-9.059</td>\n",
       "      <td>1</td>\n",
       "      <td>0.1670</td>\n",
       "      <td>84.958</td>\n",
       "      <td>4</td>\n",
       "      <td>https://api.spotify.com/v1/tracks/01uqI4H13Gsd...</td>\n",
       "      <td>audio_features</td>\n",
       "      <td>spotify:track:01uqI4H13Gsd8Lyl1EYd8H</td>\n",
       "      <td>0.2990</td>\n",
       "    </tr>\n",
       "    <tr>\n",
       "      <th>4</th>\n",
       "      <td>0.3530</td>\n",
       "      <td>https://api.spotify.com/v1/audio-analysis/5n5u...</td>\n",
       "      <td>0.400</td>\n",
       "      <td>298641</td>\n",
       "      <td>0.602</td>\n",
       "      <td>5n5uyFpfopa4mNdSN0gTaH</td>\n",
       "      <td>1.0</td>\n",
       "      <td>0.000000</td>\n",
       "      <td>7</td>\n",
       "      <td>0.1910</td>\n",
       "      <td>-6.988</td>\n",
       "      <td>0</td>\n",
       "      <td>0.1970</td>\n",
       "      <td>74.142</td>\n",
       "      <td>4</td>\n",
       "      <td>https://api.spotify.com/v1/tracks/5n5uyFpfopa4...</td>\n",
       "      <td>audio_features</td>\n",
       "      <td>spotify:track:5n5uyFpfopa4mNdSN0gTaH</td>\n",
       "      <td>0.0964</td>\n",
       "    </tr>\n",
       "  </tbody>\n",
       "</table>\n",
       "</div>"
      ],
      "text/plain": [
       "   acousticness                                       analysis_url  \\\n",
       "0        0.0291  https://api.spotify.com/v1/audio-analysis/3bid...   \n",
       "1        0.0619  https://api.spotify.com/v1/audio-analysis/3AYc...   \n",
       "2        0.0916  https://api.spotify.com/v1/audio-analysis/5pfJ...   \n",
       "3        0.7160  https://api.spotify.com/v1/audio-analysis/01uq...   \n",
       "4        0.3530  https://api.spotify.com/v1/audio-analysis/5n5u...   \n",
       "\n",
       "   danceability  duration_ms  energy                      id  indicator  \\\n",
       "0         0.641       258343   0.922  3bidbhpOYeV4knp8AIu8Xn        1.0   \n",
       "1         0.781       235613   0.526  3AYcyxEACnmE6d96RPubID        1.0   \n",
       "2         0.828       292593   0.609  5pfJsMwoRYKampPay8amX0        1.0   \n",
       "3         0.688       318525   0.473  01uqI4H13Gsd8Lyl1EYd8H        1.0   \n",
       "4         0.400       298641   0.602  5n5uyFpfopa4mNdSN0gTaH        1.0   \n",
       "\n",
       "   instrumentalness  key  liveness  loudness  mode  speechiness    tempo  \\\n",
       "0          0.000000    2    0.0862    -4.457     1       0.0786  146.078   \n",
       "1          0.000000    6    0.0457    -6.985     0       0.2930   94.992   \n",
       "2          0.000001    1    0.2910    -4.402     1       0.0694  109.725   \n",
       "3          0.000045    8    0.1040    -9.059     1       0.1670   84.958   \n",
       "4          0.000000    7    0.1910    -6.988     0       0.1970   74.142   \n",
       "\n",
       "   time_signature                                         track_href  \\\n",
       "0               4  https://api.spotify.com/v1/tracks/3bidbhpOYeV4...   \n",
       "1               4  https://api.spotify.com/v1/tracks/3AYcyxEACnmE...   \n",
       "2               4  https://api.spotify.com/v1/tracks/5pfJsMwoRYKa...   \n",
       "3               4  https://api.spotify.com/v1/tracks/01uqI4H13Gsd...   \n",
       "4               4  https://api.spotify.com/v1/tracks/5n5uyFpfopa4...   \n",
       "\n",
       "             type                                   uri  valence  \n",
       "0  audio_features  spotify:track:3bidbhpOYeV4knp8AIu8Xn   0.8470  \n",
       "1  audio_features  spotify:track:3AYcyxEACnmE6d96RPubID   0.6620  \n",
       "2  audio_features  spotify:track:5pfJsMwoRYKampPay8amX0   0.7070  \n",
       "3  audio_features  spotify:track:01uqI4H13Gsd8Lyl1EYd8H   0.2990  \n",
       "4  audio_features  spotify:track:5n5uyFpfopa4mNdSN0gTaH   0.0964  "
      ]
     },
     "execution_count": 11,
     "metadata": {},
     "output_type": "execute_result"
    }
   ],
   "source": [
    "#preview data\n",
    "features.head()"
   ]
  },
  {
   "cell_type": "code",
   "execution_count": 12,
   "metadata": {},
   "outputs": [],
   "source": [
    "features['indicator'] = features.indicator.astype(int)"
   ]
  },
  {
   "cell_type": "code",
   "execution_count": 13,
   "metadata": {},
   "outputs": [
    {
     "data": {
      "text/html": [
       "<div>\n",
       "<style scoped>\n",
       "    .dataframe tbody tr th:only-of-type {\n",
       "        vertical-align: middle;\n",
       "    }\n",
       "\n",
       "    .dataframe tbody tr th {\n",
       "        vertical-align: top;\n",
       "    }\n",
       "\n",
       "    .dataframe thead th {\n",
       "        text-align: right;\n",
       "    }\n",
       "</style>\n",
       "<table border=\"1\" class=\"dataframe\">\n",
       "  <thead>\n",
       "    <tr style=\"text-align: right;\">\n",
       "      <th></th>\n",
       "      <th>acousticness</th>\n",
       "      <th>danceability</th>\n",
       "      <th>duration_ms</th>\n",
       "      <th>energy</th>\n",
       "      <th>indicator</th>\n",
       "      <th>instrumentalness</th>\n",
       "      <th>key</th>\n",
       "      <th>liveness</th>\n",
       "      <th>loudness</th>\n",
       "      <th>mode</th>\n",
       "      <th>speechiness</th>\n",
       "      <th>tempo</th>\n",
       "      <th>time_signature</th>\n",
       "      <th>valence</th>\n",
       "    </tr>\n",
       "  </thead>\n",
       "  <tbody>\n",
       "    <tr>\n",
       "      <th>count</th>\n",
       "      <td>929.000000</td>\n",
       "      <td>929.000000</td>\n",
       "      <td>929.000000</td>\n",
       "      <td>929.000000</td>\n",
       "      <td>929.000000</td>\n",
       "      <td>929.000000</td>\n",
       "      <td>929.000000</td>\n",
       "      <td>929.000000</td>\n",
       "      <td>929.000000</td>\n",
       "      <td>929.000000</td>\n",
       "      <td>929.000000</td>\n",
       "      <td>929.000000</td>\n",
       "      <td>929.000000</td>\n",
       "      <td>929.000000</td>\n",
       "    </tr>\n",
       "    <tr>\n",
       "      <th>mean</th>\n",
       "      <td>0.246080</td>\n",
       "      <td>0.640158</td>\n",
       "      <td>219808.840689</td>\n",
       "      <td>0.619612</td>\n",
       "      <td>0.462863</td>\n",
       "      <td>0.026917</td>\n",
       "      <td>5.199139</td>\n",
       "      <td>0.173737</td>\n",
       "      <td>-6.762744</td>\n",
       "      <td>0.602799</td>\n",
       "      <td>0.097786</td>\n",
       "      <td>119.584801</td>\n",
       "      <td>3.963402</td>\n",
       "      <td>0.476591</td>\n",
       "    </tr>\n",
       "    <tr>\n",
       "      <th>std</th>\n",
       "      <td>0.273539</td>\n",
       "      <td>0.145408</td>\n",
       "      <td>48861.224040</td>\n",
       "      <td>0.182800</td>\n",
       "      <td>0.498888</td>\n",
       "      <td>0.124818</td>\n",
       "      <td>3.634450</td>\n",
       "      <td>0.132521</td>\n",
       "      <td>2.868122</td>\n",
       "      <td>0.489582</td>\n",
       "      <td>0.099391</td>\n",
       "      <td>28.797648</td>\n",
       "      <td>0.291318</td>\n",
       "      <td>0.221953</td>\n",
       "    </tr>\n",
       "    <tr>\n",
       "      <th>min</th>\n",
       "      <td>0.000009</td>\n",
       "      <td>0.125000</td>\n",
       "      <td>53307.000000</td>\n",
       "      <td>0.025400</td>\n",
       "      <td>0.000000</td>\n",
       "      <td>0.000000</td>\n",
       "      <td>0.000000</td>\n",
       "      <td>0.021500</td>\n",
       "      <td>-25.738000</td>\n",
       "      <td>0.000000</td>\n",
       "      <td>0.023200</td>\n",
       "      <td>64.934000</td>\n",
       "      <td>1.000000</td>\n",
       "      <td>0.031400</td>\n",
       "    </tr>\n",
       "    <tr>\n",
       "      <th>25%</th>\n",
       "      <td>0.034600</td>\n",
       "      <td>0.543000</td>\n",
       "      <td>191308.000000</td>\n",
       "      <td>0.518000</td>\n",
       "      <td>0.000000</td>\n",
       "      <td>0.000000</td>\n",
       "      <td>2.000000</td>\n",
       "      <td>0.094800</td>\n",
       "      <td>-7.915000</td>\n",
       "      <td>0.000000</td>\n",
       "      <td>0.036500</td>\n",
       "      <td>97.002000</td>\n",
       "      <td>4.000000</td>\n",
       "      <td>0.315000</td>\n",
       "    </tr>\n",
       "    <tr>\n",
       "      <th>50%</th>\n",
       "      <td>0.128000</td>\n",
       "      <td>0.651000</td>\n",
       "      <td>214400.000000</td>\n",
       "      <td>0.632000</td>\n",
       "      <td>0.000000</td>\n",
       "      <td>0.000001</td>\n",
       "      <td>5.000000</td>\n",
       "      <td>0.119000</td>\n",
       "      <td>-6.128000</td>\n",
       "      <td>1.000000</td>\n",
       "      <td>0.054100</td>\n",
       "      <td>117.924000</td>\n",
       "      <td>4.000000</td>\n",
       "      <td>0.470000</td>\n",
       "    </tr>\n",
       "    <tr>\n",
       "      <th>75%</th>\n",
       "      <td>0.383000</td>\n",
       "      <td>0.746000</td>\n",
       "      <td>240707.000000</td>\n",
       "      <td>0.758000</td>\n",
       "      <td>1.000000</td>\n",
       "      <td>0.000106</td>\n",
       "      <td>8.000000</td>\n",
       "      <td>0.204000</td>\n",
       "      <td>-4.952000</td>\n",
       "      <td>1.000000</td>\n",
       "      <td>0.109000</td>\n",
       "      <td>137.996000</td>\n",
       "      <td>4.000000</td>\n",
       "      <td>0.643000</td>\n",
       "    </tr>\n",
       "    <tr>\n",
       "      <th>max</th>\n",
       "      <td>0.995000</td>\n",
       "      <td>0.964000</td>\n",
       "      <td>585796.000000</td>\n",
       "      <td>0.972000</td>\n",
       "      <td>1.000000</td>\n",
       "      <td>0.999000</td>\n",
       "      <td>11.000000</td>\n",
       "      <td>0.945000</td>\n",
       "      <td>-1.538000</td>\n",
       "      <td>1.000000</td>\n",
       "      <td>0.599000</td>\n",
       "      <td>205.846000</td>\n",
       "      <td>5.000000</td>\n",
       "      <td>0.969000</td>\n",
       "    </tr>\n",
       "  </tbody>\n",
       "</table>\n",
       "</div>"
      ],
      "text/plain": [
       "       acousticness  danceability    duration_ms      energy   indicator  \\\n",
       "count    929.000000    929.000000     929.000000  929.000000  929.000000   \n",
       "mean       0.246080      0.640158  219808.840689    0.619612    0.462863   \n",
       "std        0.273539      0.145408   48861.224040    0.182800    0.498888   \n",
       "min        0.000009      0.125000   53307.000000    0.025400    0.000000   \n",
       "25%        0.034600      0.543000  191308.000000    0.518000    0.000000   \n",
       "50%        0.128000      0.651000  214400.000000    0.632000    0.000000   \n",
       "75%        0.383000      0.746000  240707.000000    0.758000    1.000000   \n",
       "max        0.995000      0.964000  585796.000000    0.972000    1.000000   \n",
       "\n",
       "       instrumentalness         key    liveness    loudness        mode  \\\n",
       "count        929.000000  929.000000  929.000000  929.000000  929.000000   \n",
       "mean           0.026917    5.199139    0.173737   -6.762744    0.602799   \n",
       "std            0.124818    3.634450    0.132521    2.868122    0.489582   \n",
       "min            0.000000    0.000000    0.021500  -25.738000    0.000000   \n",
       "25%            0.000000    2.000000    0.094800   -7.915000    0.000000   \n",
       "50%            0.000001    5.000000    0.119000   -6.128000    1.000000   \n",
       "75%            0.000106    8.000000    0.204000   -4.952000    1.000000   \n",
       "max            0.999000   11.000000    0.945000   -1.538000    1.000000   \n",
       "\n",
       "       speechiness       tempo  time_signature     valence  \n",
       "count   929.000000  929.000000      929.000000  929.000000  \n",
       "mean      0.097786  119.584801        3.963402    0.476591  \n",
       "std       0.099391   28.797648        0.291318    0.221953  \n",
       "min       0.023200   64.934000        1.000000    0.031400  \n",
       "25%       0.036500   97.002000        4.000000    0.315000  \n",
       "50%       0.054100  117.924000        4.000000    0.470000  \n",
       "75%       0.109000  137.996000        4.000000    0.643000  \n",
       "max       0.599000  205.846000        5.000000    0.969000  "
      ]
     },
     "execution_count": 13,
     "metadata": {},
     "output_type": "execute_result"
    }
   ],
   "source": [
    "#verify the data looks pretty clean\n",
    "features.describe()"
   ]
  },
  {
   "cell_type": "markdown",
   "metadata": {},
   "source": [
    "# Begin Random Forest Building Process"
   ]
  },
  {
   "cell_type": "code",
   "execution_count": 13,
   "metadata": {},
   "outputs": [],
   "source": [
    "import numpy as np\n",
    "\n",
    "#get target variable\n",
    "target = np.array(features['indicator'])"
   ]
  },
  {
   "cell_type": "code",
   "execution_count": 14,
   "metadata": {},
   "outputs": [
    {
     "name": "stdout",
     "output_type": "stream",
     "text": [
      "['audio_features']\n"
     ]
    }
   ],
   "source": [
    "#remove target from df \n",
    "features= features.drop('indicator', axis = 1)\n",
    "\n",
    "#drop variables we don't need for analysis (urls)\n",
    "features= features.drop('analysis_url', axis = 1)\n",
    "features= features.drop('track_href', axis = 1)\n",
    "features= features.drop('uri', axis = 1)\n",
    "features= features.drop('id', axis = 1)\n",
    "\n",
    "#check type variable \n",
    "print (features['type'].unique()) #only audio_features, so remove\n",
    "features= features.drop('type', axis = 1)\n",
    "\n"
   ]
  },
  {
   "cell_type": "code",
   "execution_count": 15,
   "metadata": {},
   "outputs": [],
   "source": [
    "#save a list of input variables \n",
    "feature_list = list(features.columns)\n",
    "\n",
    "#convert to a np array\n",
    "features = np.array(features)"
   ]
  },
  {
   "cell_type": "code",
   "execution_count": 16,
   "metadata": {},
   "outputs": [],
   "source": [
    "from sklearn.model_selection import train_test_split #use package to split the data\n",
    "\n",
    "# Split the data into training and testing sets (will use cross-validation)\n",
    "train_X, test_X, train_Y, test_Y = train_test_split(features, target, test_size = 0.20, random_state = 2020)"
   ]
  },
  {
   "cell_type": "code",
   "execution_count": 17,
   "metadata": {},
   "outputs": [
    {
     "name": "stdout",
     "output_type": "stream",
     "text": [
      "[0 1]\n",
      "[398 345]\n"
     ]
    }
   ],
   "source": [
    "#verify percent of unpopular is the same for both train and validation as in the total population\n",
    "trainvalues, traincounts = np.unique(train_Y, return_counts=True)\n",
    "print(trainvalues)\n",
    "print(traincounts)"
   ]
  },
  {
   "cell_type": "code",
   "execution_count": 18,
   "metadata": {},
   "outputs": [
    {
     "name": "stdout",
     "output_type": "stream",
     "text": [
      "[0 1]\n",
      "[101  85]\n"
     ]
    }
   ],
   "source": [
    "testvalues, testcounts = np.unique(test_Y, return_counts=True)\n",
    "print(testvalues)\n",
    "print(testcounts)"
   ]
  },
  {
   "cell_type": "markdown",
   "metadata": {},
   "source": [
    "# # Now Run Random Search to narrow down grid"
   ]
  },
  {
   "cell_type": "code",
   "execution_count": 21,
   "metadata": {},
   "outputs": [
    {
     "name": "stdout",
     "output_type": "stream",
     "text": [
      "{'bootstrap': [True, False],\n",
      " 'criterion': ['gini', 'entropy'],\n",
      " 'max_depth': [10, 20, 30, 40, 50, 60, 70, 80, 90, 100, 110, None],\n",
      " 'max_features': ['auto', 'sqrt'],\n",
      " 'min_samples_leaf': [1, 2, 4],\n",
      " 'min_samples_split': [2, 5, 10],\n",
      " 'n_estimators': [200, 400, 600, 800, 1000, 1200, 1400, 1600, 1800, 2000]}\n"
     ]
    }
   ],
   "source": [
    "from sklearn.model_selection import RandomizedSearchCV\n",
    "from sklearn.ensemble import RandomForestClassifier\n",
    "from pprint import pprint\n",
    "\n",
    "# number of trees\n",
    "n_estimators = [int(x) for x in np.linspace(start = 200, stop = 2000, num = 10)]\n",
    "\n",
    "# splits\n",
    "criterion = ['gini', 'entropy']\n",
    "\n",
    "# Number of features to consider at every split\n",
    "max_features = ['auto', 'sqrt']\n",
    "\n",
    "# max number of levels in a tree\n",
    "max_depth = [int(x) for x in np.linspace(10, 110, num = 11)]\n",
    "max_depth.append(None)\n",
    "\n",
    "# min number of samples required at a split\n",
    "min_samples_split = [2, 5, 10]\n",
    "\n",
    "# min number of samples required at each leaf\n",
    "min_samples_leaf = [1, 2, 4]\n",
    "\n",
    "# method of selecting samples for training each tree\n",
    "bootstrap = [True, False]\n",
    "\n",
    "# Create the grid\n",
    "random_grid = {'n_estimators': n_estimators,\n",
    "               'max_features': max_features,\n",
    "               'max_depth': max_depth,\n",
    "               'min_samples_split': min_samples_split,\n",
    "               'min_samples_leaf': min_samples_leaf,\n",
    "               'bootstrap': bootstrap, \n",
    "                'criterion': criterion}\n",
    "pprint(random_grid)"
   ]
  },
  {
   "cell_type": "code",
   "execution_count": 22,
   "metadata": {},
   "outputs": [
    {
     "name": "stdout",
     "output_type": "stream",
     "text": [
      "Fitting 3 folds for each of 100 candidates, totalling 300 fits\n"
     ]
    },
    {
     "name": "stderr",
     "output_type": "stream",
     "text": [
      "[Parallel(n_jobs=-1)]: Using backend LokyBackend with 8 concurrent workers.\n",
      "[Parallel(n_jobs=-1)]: Done  25 tasks      | elapsed:   13.1s\n",
      "[Parallel(n_jobs=-1)]: Done 146 tasks      | elapsed:  1.2min\n",
      "[Parallel(n_jobs=-1)]: Done 300 out of 300 | elapsed:  2.4min finished\n"
     ]
    },
    {
     "data": {
      "text/plain": [
       "RandomizedSearchCV(cv=3, error_score='raise-deprecating',\n",
       "                   estimator=RandomForestClassifier(bootstrap=True,\n",
       "                                                    class_weight=None,\n",
       "                                                    criterion='gini',\n",
       "                                                    max_depth=None,\n",
       "                                                    max_features='auto',\n",
       "                                                    max_leaf_nodes=None,\n",
       "                                                    min_impurity_decrease=0.0,\n",
       "                                                    min_impurity_split=None,\n",
       "                                                    min_samples_leaf=1,\n",
       "                                                    min_samples_split=2,\n",
       "                                                    min_weight_fraction_leaf=0.0,\n",
       "                                                    n_estimators='warn',\n",
       "                                                    n_jobs=None,\n",
       "                                                    oob_sc...\n",
       "                   param_distributions={'bootstrap': [True, False],\n",
       "                                        'criterion': ['gini', 'entropy'],\n",
       "                                        'max_depth': [10, 20, 30, 40, 50, 60,\n",
       "                                                      70, 80, 90, 100, 110,\n",
       "                                                      None],\n",
       "                                        'max_features': ['auto', 'sqrt'],\n",
       "                                        'min_samples_leaf': [1, 2, 4],\n",
       "                                        'min_samples_split': [2, 5, 10],\n",
       "                                        'n_estimators': [200, 400, 600, 800,\n",
       "                                                         1000, 1200, 1400, 1600,\n",
       "                                                         1800, 2000]},\n",
       "                   pre_dispatch='2*n_jobs', random_state=2020, refit=True,\n",
       "                   return_train_score=False, scoring=None, verbose=2)"
      ]
     },
     "execution_count": 22,
     "metadata": {},
     "output_type": "execute_result"
    }
   ],
   "source": [
    "# First create the base model to tune\n",
    "rf = RandomForestClassifier()\n",
    "# Random search of parameters, using 3 fold cross validation, \n",
    "# search across 100 different combinations, and use all available cores\n",
    "rf_random = RandomizedSearchCV(estimator = rf, param_distributions = random_grid, n_iter = 100, cv = 3, verbose=2, random_state=2020, n_jobs = -1)\n",
    "# Fit the random search model\n",
    "rf_random.fit(train_X, train_Y)"
   ]
  },
  {
   "cell_type": "code",
   "execution_count": 38,
   "metadata": {},
   "outputs": [
    {
     "data": {
      "text/plain": [
       "RandomForestClassifier(bootstrap=True, class_weight=None, criterion='entropy',\n",
       "                       max_depth=90, max_features='sqrt', max_leaf_nodes=None,\n",
       "                       min_impurity_decrease=0.0, min_impurity_split=None,\n",
       "                       min_samples_leaf=2, min_samples_split=5,\n",
       "                       min_weight_fraction_leaf=0.0, n_estimators=200,\n",
       "                       n_jobs=None, oob_score=False, random_state=2020,\n",
       "                       verbose=0, warm_start=False)"
      ]
     },
     "execution_count": 38,
     "metadata": {},
     "output_type": "execute_result"
    }
   ],
   "source": [
    "best_param = rf_random.best_params_\n",
    "#build best rf from random search\n",
    "best_randmodel = RandomForestClassifier(n_estimators = best_param['n_estimators'], random_state = 2020, min_samples_split = best_param['min_samples_split'], min_samples_leaf = best_param['min_samples_leaf'], max_features = best_param['max_features'], max_depth = best_param['max_depth'], criterion = best_param['criterion'], bootstrap = best_param['bootstrap'])\n",
    "best_randmodel.fit(train_X, train_Y)"
   ]
  },
  {
   "cell_type": "markdown",
   "metadata": {},
   "source": [
    "# Compare Base Model with Random Search Model"
   ]
  },
  {
   "cell_type": "code",
   "execution_count": 39,
   "metadata": {},
   "outputs": [
    {
     "name": "stdout",
     "output_type": "stream",
     "text": [
      "testing accuracy: 0.975774\n"
     ]
    },
    {
     "name": "stderr",
     "output_type": "stream",
     "text": [
      "C:\\Users\\ameli\\Anaconda3\\lib\\site-packages\\sklearn\\ensemble\\forest.py:245: FutureWarning: The default value of n_estimators will change from 10 in version 0.20 to 100 in 0.22.\n",
      "  \"10 in version 0.20 to 100 in 0.22.\", FutureWarning)\n"
     ]
    }
   ],
   "source": [
    "rf.fit(train_X, train_Y)\n",
    "\n",
    "pred_base = rf.predict(train_X)\n",
    "#score predictions on accuracy\n",
    "acc_trainBase = sum(pred_base==train_Y)/len(train_Y)\n",
    "print(\"testing accuracy: %f\" % (acc_trainBase))"
   ]
  },
  {
   "cell_type": "markdown",
   "metadata": {},
   "source": [
    "Accuracy improves by 4%"
   ]
  },
  {
   "cell_type": "code",
   "execution_count": 49,
   "metadata": {},
   "outputs": [
    {
     "name": "stdout",
     "output_type": "stream",
     "text": [
      "testing accuracy: 0.994616\n"
     ]
    }
   ],
   "source": [
    "pred_rand = best_randmodel.predict(train_X)\n",
    "#score predictions on accuracy\n",
    "acc_trainRand = sum(pred_rand==train_Y)/len(train_Y)\n",
    "print(\"testing accuracy: %f\" % (acc_trainRand))"
   ]
  },
  {
   "cell_type": "code",
   "execution_count": 43,
   "metadata": {},
   "outputs": [],
   "source": [
    "from sklearn.model_selection import GridSearchCV\n",
    "\n",
    "# Create the parameter grid based on the results of random search \n",
    "param_grid = {\n",
    "    'bootstrap': [True],\n",
    "    'max_depth': [80, 90, 100, 110],\n",
    "    'max_features': ['sqrt'],\n",
    "    'min_samples_leaf': [2, 3, 4, 5],\n",
    "    'min_samples_split': [4, 5, 6],\n",
    "    'n_estimators': [100, 200, 300, 1000],\n",
    "    'criterion' : ['entropy']\n",
    "}\n",
    "# Create a based model\n",
    "rf = RandomForestClassifier()\n",
    "\n",
    "# grid search model\n",
    "grid_search = GridSearchCV(estimator = rf, param_grid = param_grid, \n",
    "                          cv = 3, n_jobs = -1, verbose = 2)"
   ]
  },
  {
   "cell_type": "code",
   "execution_count": 44,
   "metadata": {},
   "outputs": [
    {
     "name": "stdout",
     "output_type": "stream",
     "text": [
      "Fitting 3 folds for each of 192 candidates, totalling 576 fits\n"
     ]
    },
    {
     "name": "stderr",
     "output_type": "stream",
     "text": [
      "[Parallel(n_jobs=-1)]: Using backend LokyBackend with 8 concurrent workers.\n",
      "[Parallel(n_jobs=-1)]: Done  25 tasks      | elapsed:    5.9s\n",
      "[Parallel(n_jobs=-1)]: Done 146 tasks      | elapsed:   23.3s\n",
      "[Parallel(n_jobs=-1)]: Done 349 tasks      | elapsed:   53.5s\n",
      "[Parallel(n_jobs=-1)]: Done 576 out of 576 | elapsed:  1.5min finished\n"
     ]
    },
    {
     "data": {
      "text/plain": [
       "{'bootstrap': True,\n",
       " 'criterion': 'entropy',\n",
       " 'max_depth': 100,\n",
       " 'max_features': 'sqrt',\n",
       " 'min_samples_leaf': 4,\n",
       " 'min_samples_split': 6,\n",
       " 'n_estimators': 300}"
      ]
     },
     "execution_count": 44,
     "metadata": {},
     "output_type": "execute_result"
    }
   ],
   "source": [
    "# Fit the grid search to the data\n",
    "grid_search.fit(train_X, train_Y)\n",
    "grid_search.best_params_"
   ]
  },
  {
   "cell_type": "code",
   "execution_count": 45,
   "metadata": {},
   "outputs": [
    {
     "data": {
      "text/plain": [
       "RandomForestClassifier(bootstrap=True, class_weight=None, criterion='entropy',\n",
       "                       max_depth=100, max_features='sqrt', max_leaf_nodes=None,\n",
       "                       min_impurity_decrease=0.0, min_impurity_split=None,\n",
       "                       min_samples_leaf=4, min_samples_split=6,\n",
       "                       min_weight_fraction_leaf=0.0, n_estimators=300,\n",
       "                       n_jobs=None, oob_score=False, random_state=2020,\n",
       "                       verbose=0, warm_start=False)"
      ]
     },
     "execution_count": 45,
     "metadata": {},
     "output_type": "execute_result"
    }
   ],
   "source": [
    "best_grid = grid_search.best_params_\n",
    "#build best rf from grid search\n",
    "best_gridmodel = RandomForestClassifier(n_estimators = best_grid['n_estimators'], random_state = 2020, min_samples_split = best_grid['min_samples_split'], min_samples_leaf = best_grid['min_samples_leaf'], max_features = best_grid['max_features'], max_depth = best_grid['max_depth'], criterion = best_grid['criterion'], bootstrap = best_grid['bootstrap'])\n",
    "best_gridmodel.fit(train_X, train_Y)"
   ]
  },
  {
   "cell_type": "code",
   "execution_count": 50,
   "metadata": {},
   "outputs": [
    {
     "name": "stdout",
     "output_type": "stream",
     "text": [
      "testing accuracy: 0.979812\n"
     ]
    }
   ],
   "source": [
    "pred_grid = best_gridmodel.predict(train_X)\n",
    "#score predictions on accuracy\n",
    "acc_trainGrid = sum(pred_grid==train_Y)/len(train_Y)\n",
    "print(\"testing accuracy: %f\" % (acc_trainGrid))"
   ]
  },
  {
   "cell_type": "code",
   "execution_count": 53,
   "metadata": {},
   "outputs": [
    {
     "name": "stdout",
     "output_type": "stream",
     "text": [
      "testing accuracy: 0.591398\n"
     ]
    },
    {
     "name": "stderr",
     "output_type": "stream",
     "text": [
      "C:\\Users\\ameli\\Anaconda3\\lib\\site-packages\\sklearn\\ensemble\\forest.py:245: FutureWarning: The default value of n_estimators will change from 10 in version 0.20 to 100 in 0.22.\n",
      "  \"10 in version 0.20 to 100 in 0.22.\", FutureWarning)\n"
     ]
    }
   ],
   "source": [
    "rf.fit(train_X, train_Y)\n",
    "\n",
    "pred_test = rf.predict(test_X)\n",
    "#score predictions on accuracy\n",
    "acc_testBase = sum(pred_test==test_Y)/len(test_Y)\n",
    "print(\"testing accuracy: %f\" % (acc_testBase))"
   ]
  },
  {
   "cell_type": "code",
   "execution_count": 54,
   "metadata": {},
   "outputs": [
    {
     "name": "stdout",
     "output_type": "stream",
     "text": [
      "training accuracy: 0.602151\n"
     ]
    }
   ],
   "source": [
    "pred_test2= best_gridmodel.predict(test_X)\n",
    "#score predictions on accuracy\n",
    "acc_testBest = sum(pred_test2==test_Y)/len(test_Y)\n",
    "print(\"training accuracy: %f\" % (acc_testBest))"
   ]
  },
  {
   "cell_type": "code",
   "execution_count": 55,
   "metadata": {},
   "outputs": [
    {
     "name": "stdout",
     "output_type": "stream",
     "text": [
      "[0 1]\n",
      "[111  75]\n"
     ]
    }
   ],
   "source": [
    "#find counts for predicted values to see if the model is overfitting or underfitting \n",
    "predvalues, predcounts = np.unique(pred_test2, return_counts=True)\n",
    "print(predvalues)\n",
    "print(predcounts)"
   ]
  },
  {
   "cell_type": "code",
   "execution_count": null,
   "metadata": {},
   "outputs": [],
   "source": []
  }
 ],
 "metadata": {
  "kernelspec": {
   "display_name": "Python 3",
   "language": "python",
   "name": "python3"
  },
  "language_info": {
   "codemirror_mode": {
    "name": "ipython",
    "version": 3
   },
   "file_extension": ".py",
   "mimetype": "text/x-python",
   "name": "python",
   "nbconvert_exporter": "python",
   "pygments_lexer": "ipython3",
   "version": "3.7.3"
  }
 },
 "nbformat": 4,
 "nbformat_minor": 2
}
